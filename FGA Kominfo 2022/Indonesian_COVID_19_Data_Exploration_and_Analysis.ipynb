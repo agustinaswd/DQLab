{
  "nbformat": 4,
  "nbformat_minor": 0,
  "metadata": {
    "colab": {
      "provenance": []
    },
    "kernelspec": {
      "name": "python3",
      "display_name": "Python 3"
    },
    "language_info": {
      "name": "python"
    }
  },
  "cells": [
    {
      "cell_type": "markdown",
      "source": [
        "# Pendahuluan"
      ],
      "metadata": {
        "id": "8njiPfDVPd3F"
      }
    },
    {
      "cell_type": "markdown",
      "source": [
        "## Warming Up!"
      ],
      "metadata": {
        "id": "oZjjp6noO_ax"
      }
    },
    {
      "cell_type": "code",
      "execution_count": 1,
      "metadata": {
        "colab": {
          "base_uri": "https://localhost:8080/"
        },
        "id": "GCN-JlTpOCqC",
        "outputId": "9f3287ec-1140-426f-c29b-70a37ccf3564"
      },
      "outputs": [
        {
          "output_type": "stream",
          "name": "stdout",
          "text": [
            "['cuci tangan', 'pakai masker', 'jaga jarak']\n"
          ]
        }
      ],
      "source": [
        "bersatulawancovid = ['cuci tangan', 'pakai masker', 'jaga jarak']\n",
        "print(bersatulawancovid)"
      ]
    },
    {
      "cell_type": "markdown",
      "source": [
        "## Are You Ready?"
      ],
      "metadata": {
        "id": "IZjGknp_PIUo"
      }
    },
    {
      "cell_type": "code",
      "source": [
        "True"
      ],
      "metadata": {
        "colab": {
          "base_uri": "https://localhost:8080/"
        },
        "id": "ZaIpwbMoPIwn",
        "outputId": "8bcd0d0d-6b93-4156-c6c3-2c21d92094a1"
      },
      "execution_count": 2,
      "outputs": [
        {
          "output_type": "execute_result",
          "data": {
            "text/plain": [
              "True"
            ]
          },
          "metadata": {},
          "execution_count": 2
        }
      ]
    },
    {
      "cell_type": "markdown",
      "source": [
        "# Bermain API"
      ],
      "metadata": {
        "id": "0liPg3ofPjfu"
      }
    },
    {
      "cell_type": "markdown",
      "source": [
        "## Mengakses API covid19.go.id"
      ],
      "metadata": {
        "id": "a8PimXkJPJGW"
      }
    },
    {
      "cell_type": "code",
      "source": [
        "import requests\n",
        "resp = requests.get('https://storage.googleapis.com/dqlab-dataset/update.json', verify=False)"
      ],
      "metadata": {
        "colab": {
          "base_uri": "https://localhost:8080/"
        },
        "id": "Vcit5_21PJRW",
        "outputId": "c05cc17f-727f-4319-927d-0ea6bd0b55b2"
      },
      "execution_count": 3,
      "outputs": [
        {
          "output_type": "stream",
          "name": "stderr",
          "text": [
            "/usr/local/lib/python3.8/dist-packages/urllib3/connectionpool.py:842: InsecureRequestWarning: Unverified HTTPS request is being made. Adding certificate verification is strongly advised. See: https://urllib3.readthedocs.io/en/latest/advanced-usage.html#ssl-warnings\n",
            "  warnings.warn((\n"
          ]
        }
      ]
    },
    {
      "cell_type": "markdown",
      "source": [
        "## Status Code"
      ],
      "metadata": {
        "id": "zYlJAhKqPJbt"
      }
    },
    {
      "cell_type": "code",
      "source": [
        "import requests\n",
        "resp = requests.get('https://storage.googleapis.com/dqlab-dataset/update.json', verify=False)\n",
        "print(resp)"
      ],
      "metadata": {
        "colab": {
          "base_uri": "https://localhost:8080/"
        },
        "id": "NWK0TDHFPJlW",
        "outputId": "0523e13f-c50b-44ae-8392-67eb142befbc"
      },
      "execution_count": 4,
      "outputs": [
        {
          "output_type": "stream",
          "name": "stdout",
          "text": [
            "<Response [200]>\n"
          ]
        },
        {
          "output_type": "stream",
          "name": "stderr",
          "text": [
            "/usr/local/lib/python3.8/dist-packages/urllib3/connectionpool.py:842: InsecureRequestWarning: Unverified HTTPS request is being made. Adding certificate verification is strongly advised. See: https://urllib3.readthedocs.io/en/latest/advanced-usage.html#ssl-warnings\n",
            "  warnings.warn((\n"
          ]
        }
      ]
    },
    {
      "cell_type": "markdown",
      "source": [
        "## Headers API"
      ],
      "metadata": {
        "id": "YM0mKgrEPJs4"
      }
    },
    {
      "cell_type": "code",
      "source": [
        "resp = requests.get('https://storage.googleapis.com/dqlab-dataset/update.json', verify=False)\n",
        "print(resp.headers)"
      ],
      "metadata": {
        "colab": {
          "base_uri": "https://localhost:8080/"
        },
        "id": "ImkFfwW_PJx9",
        "outputId": "890abac4-7c75-4d6f-9d4a-9a265ae27479"
      },
      "execution_count": 5,
      "outputs": [
        {
          "output_type": "stream",
          "name": "stdout",
          "text": [
            "{'X-GUploader-UploadID': 'ADPycdsspMofQBjlUX4Gby2sCQXsK7gEOnuGWz9aB9OQLHJqymB8WcFzoPEABJyeWbo9JtfKmVF0_fU0Y-TiU58MkndSng', 'x-goog-generation': '1654513959565478', 'x-goog-metageneration': '1', 'x-goog-stored-content-encoding': 'identity', 'x-goog-stored-content-length': '311897', 'x-goog-hash': 'crc32c=GMMqEA==, md5=8aR/820+lfYyWNlv5bLUOQ==', 'x-goog-storage-class': 'STANDARD', 'Accept-Ranges': 'bytes', 'Content-Length': '311897', 'Server': 'UploadServer', 'Date': 'Fri, 09 Dec 2022 23:42:06 GMT', 'Expires': 'Sat, 10 Dec 2022 00:42:06 GMT', 'Cache-Control': 'public, max-age=3600', 'Last-Modified': 'Mon, 06 Jun 2022 11:12:39 GMT', 'ETag': '\"f1a47ff36d3e95f63258d96fe5b2d439\"', 'Content-Type': 'application/json', 'Age': '9'}\n"
          ]
        },
        {
          "output_type": "stream",
          "name": "stderr",
          "text": [
            "/usr/local/lib/python3.8/dist-packages/urllib3/connectionpool.py:842: InsecureRequestWarning: Unverified HTTPS request is being made. Adding certificate verification is strongly advised. See: https://urllib3.readthedocs.io/en/latest/advanced-usage.html#ssl-warnings\n",
            "  warnings.warn((\n"
          ]
        }
      ]
    },
    {
      "cell_type": "markdown",
      "source": [
        "## Mengekstrak Isi Respon"
      ],
      "metadata": {
        "id": "5GW09qI6Py4z"
      }
    },
    {
      "cell_type": "code",
      "source": [
        "resp = requests.get('https://storage.googleapis.com/dqlab-dataset/update.json', verify=False)\n",
        "\n",
        "cov_id_raw = resp.json()"
      ],
      "metadata": {
        "colab": {
          "base_uri": "https://localhost:8080/"
        },
        "id": "lA5gG17ZPzgC",
        "outputId": "23419243-35db-46b6-b45c-c62b16bb41b4"
      },
      "execution_count": 6,
      "outputs": [
        {
          "output_type": "stream",
          "name": "stderr",
          "text": [
            "/usr/local/lib/python3.8/dist-packages/urllib3/connectionpool.py:842: InsecureRequestWarning: Unverified HTTPS request is being made. Adding certificate verification is strongly advised. See: https://urllib3.readthedocs.io/en/latest/advanced-usage.html#ssl-warnings\n",
            "  warnings.warn((\n"
          ]
        }
      ]
    },
    {
      "cell_type": "markdown",
      "source": [
        "## Mengekstrak isi Respon - 2"
      ],
      "metadata": {
        "id": "_L4Os59jPz0Z"
      }
    },
    {
      "cell_type": "code",
      "source": [
        "resp = requests.get('https://storage.googleapis.com/dqlab-dataset/update.json', verify=False)\n",
        "cov_id_raw = resp.json()\n",
        "\n",
        "print('Length of cov_id_raw : %d.' %len(cov_id_raw))\n",
        "print('Komponen cov_id_raw  : %s.' %cov_id_raw.keys())\n",
        "cov_id_update = cov_id_raw['update']\n"
      ],
      "metadata": {
        "colab": {
          "base_uri": "https://localhost:8080/"
        },
        "id": "iLjFhZeJPz-4",
        "outputId": "11aff3de-116d-499a-d2c4-4136a0f6c92d"
      },
      "execution_count": 7,
      "outputs": [
        {
          "output_type": "stream",
          "name": "stdout",
          "text": [
            "Length of cov_id_raw : 2.\n",
            "Komponen cov_id_raw  : dict_keys(['data', 'update']).\n"
          ]
        },
        {
          "output_type": "stream",
          "name": "stderr",
          "text": [
            "/usr/local/lib/python3.8/dist-packages/urllib3/connectionpool.py:842: InsecureRequestWarning: Unverified HTTPS request is being made. Adding certificate verification is strongly advised. See: https://urllib3.readthedocs.io/en/latest/advanced-usage.html#ssl-warnings\n",
            "  warnings.warn((\n"
          ]
        }
      ]
    },
    {
      "cell_type": "markdown",
      "source": [
        "## Analisa Data"
      ],
      "metadata": {
        "id": "-_u4_j8hP0I8"
      }
    },
    {
      "cell_type": "code",
      "source": [
        "resp = requests.get('https://storage.googleapis.com/dqlab-dataset/update.json', verify=False)\n",
        "cov_id_raw = resp.json()\n",
        "cov_id_update = cov_id_raw['update']\n",
        "\n",
        "print('Tanggal pembaharuan data penambahan kasus   :', cov_id_update['penambahan']['tanggal'])\n",
        "print('Jumlah penambahan kasus sembuh  :', cov_id_update['penambahan']['jumlah_sembuh'])\n",
        "print('Jumlah penambahan kasus meninggal  :', cov_id_update['penambahan']['jumlah_meninggal'])\n",
        "print('Jumlah total kasus positif hingga saat ini   :', cov_id_update['total']['jumlah_positif'])\n",
        "print('Jumlah total kasus meninggal hingga saat ini   :', cov_id_update['total']['jumlah_meninggal'])"
      ],
      "metadata": {
        "colab": {
          "base_uri": "https://localhost:8080/"
        },
        "id": "WxyCe_NXP0Qw",
        "outputId": "ea0cbd9b-beda-41d0-d8df-1cf32cae83b4"
      },
      "execution_count": 8,
      "outputs": [
        {
          "output_type": "stream",
          "name": "stdout",
          "text": [
            "Tanggal pembaharuan data penambahan kasus   : 2022-05-14\n",
            "Jumlah penambahan kasus sembuh  : 416\n",
            "Jumlah penambahan kasus meninggal  : 5\n",
            "Jumlah total kasus positif hingga saat ini   : 6050519\n",
            "Jumlah total kasus meninggal hingga saat ini   : 156453\n"
          ]
        },
        {
          "output_type": "stream",
          "name": "stderr",
          "text": [
            "/usr/local/lib/python3.8/dist-packages/urllib3/connectionpool.py:842: InsecureRequestWarning: Unverified HTTPS request is being made. Adding certificate verification is strongly advised. See: https://urllib3.readthedocs.io/en/latest/advanced-usage.html#ssl-warnings\n",
            "  warnings.warn((\n"
          ]
        }
      ]
    },
    {
      "cell_type": "markdown",
      "source": [
        "# Covid-19 di sekitar"
      ],
      "metadata": {
        "id": "wO34DZA5P0Y3"
      }
    },
    {
      "cell_type": "markdown",
      "source": [
        "## Apa Kabar Jawa Barat?"
      ],
      "metadata": {
        "id": "MmMrIeqyP0oO"
      }
    },
    {
      "cell_type": "code",
      "source": [
        "resp_jabar = requests.get('https://storage.googleapis.com/dqlab-dataset/prov_detail_JAWA_BARAT.json', verify=False)\n",
        "cov_jabar_raw = resp_jabar.json()"
      ],
      "metadata": {
        "colab": {
          "base_uri": "https://localhost:8080/"
        },
        "id": "cA7CHoPrP0vX",
        "outputId": "580b4169-bc73-441b-9ca3-8935ba147a96"
      },
      "execution_count": 9,
      "outputs": [
        {
          "output_type": "stream",
          "name": "stderr",
          "text": [
            "/usr/local/lib/python3.8/dist-packages/urllib3/connectionpool.py:842: InsecureRequestWarning: Unverified HTTPS request is being made. Adding certificate verification is strongly advised. See: https://urllib3.readthedocs.io/en/latest/advanced-usage.html#ssl-warnings\n",
            "  warnings.warn((\n"
          ]
        }
      ]
    },
    {
      "cell_type": "markdown",
      "source": [
        "## Memahami Kasus COVID-19 di Jawa Barat"
      ],
      "metadata": {
        "id": "5bmYZwIjP026"
      }
    },
    {
      "cell_type": "code",
      "source": [
        "resp_jabar = requests.get('https://storage.googleapis.com/dqlab-dataset/prov_detail_JAWA_BARAT.json', verify=False)\n",
        "cov_jabar_raw = resp_jabar.json()\n",
        "\n",
        "print('Nama-nama elemen utama:\\n', cov_jabar_raw.keys())\n",
        "print('\\nJumlah total kasus COVID-19 di Jawa Barat                 : %d' %cov_jabar_raw['kasus_total'])\n",
        "print('Persentase kematian akibat COVID-19 di Jawa Barat         : %f.2%%' %cov_jabar_raw['meninggal_persen'])\n",
        "print('Persentase tingkat kesembuhan dari COVID-19 di Jawa Barat : %f.2%%' %cov_jabar_raw['sembuh_persen'])"
      ],
      "metadata": {
        "colab": {
          "base_uri": "https://localhost:8080/"
        },
        "id": "cdGYcgJTP09Z",
        "outputId": "281f69ea-c2fb-47fa-9406-a9199e517a42"
      },
      "execution_count": 10,
      "outputs": [
        {
          "output_type": "stream",
          "name": "stdout",
          "text": [
            "Nama-nama elemen utama:\n",
            " dict_keys(['last_date', 'provinsi', 'kasus_total', 'kasus_tanpa_tgl', 'kasus_dengan_tgl', 'meninggal_persen', 'meninggal_tanpa_tgl', 'meninggal_dengan_tgl', 'sembuh_persen', 'sembuh_tanpa_tgl', 'sembuh_dengan_tgl', 'list_perkembangan', 'data'])\n",
            "\n",
            "Jumlah total kasus COVID-19 di Jawa Barat                 : 1105134\n",
            "Persentase kematian akibat COVID-19 di Jawa Barat         : 1.425619.2%\n",
            "Persentase tingkat kesembuhan dari COVID-19 di Jawa Barat : 98.282380.2%\n"
          ]
        },
        {
          "output_type": "stream",
          "name": "stderr",
          "text": [
            "/usr/local/lib/python3.8/dist-packages/urllib3/connectionpool.py:842: InsecureRequestWarning: Unverified HTTPS request is being made. Adding certificate verification is strongly advised. See: https://urllib3.readthedocs.io/en/latest/advanced-usage.html#ssl-warnings\n",
            "  warnings.warn((\n"
          ]
        }
      ]
    },
    {
      "cell_type": "markdown",
      "source": [
        "## Memperoleh Informasi yang Lebih Lengkap"
      ],
      "metadata": {
        "id": "5Z4mSjINP1FG"
      }
    },
    {
      "cell_type": "code",
      "source": [
        "import numpy as np\n",
        "import pandas as pd\n",
        "import requests\n",
        "resp_jabar = requests.get('https://storage.googleapis.com/dqlab-dataset/prov_detail_JAWA_BARAT.json', verify=False)\n",
        "cov_jabar_raw = resp_jabar.json()\n",
        "\n",
        "cov_jabar = pd.DataFrame(cov_jabar_raw['list_perkembangan'])\n",
        "print('Info cov_jabar:\\n', cov_jabar.info())\n",
        "print('\\nLima data teratas cov_jabar:\\n', cov_jabar.head())"
      ],
      "metadata": {
        "colab": {
          "base_uri": "https://localhost:8080/"
        },
        "id": "cHArFn0oP1LJ",
        "outputId": "0c3d6648-8084-44ae-b70c-ad2ef9c80ec3"
      },
      "execution_count": 11,
      "outputs": [
        {
          "output_type": "stream",
          "name": "stdout",
          "text": [
            "<class 'pandas.core.frame.DataFrame'>\n",
            "RangeIndex: 785 entries, 0 to 784\n",
            "Data columns (total 9 columns):\n",
            " #   Column                        Non-Null Count  Dtype\n",
            "---  ------                        --------------  -----\n",
            " 0   tanggal                       785 non-null    int64\n",
            " 1   KASUS                         785 non-null    int64\n",
            " 2   MENINGGAL                     785 non-null    int64\n",
            " 3   SEMBUH                        785 non-null    int64\n",
            " 4   DIRAWAT_OR_ISOLASI            785 non-null    int64\n",
            " 5   AKUMULASI_KASUS               785 non-null    int64\n",
            " 6   AKUMULASI_SEMBUH              785 non-null    int64\n",
            " 7   AKUMULASI_MENINGGAL           785 non-null    int64\n",
            " 8   AKUMULASI_DIRAWAT_OR_ISOLASI  785 non-null    int64\n",
            "dtypes: int64(9)\n",
            "memory usage: 55.3 KB\n",
            "Info cov_jabar:\n",
            " None\n",
            "\n",
            "Lima data teratas cov_jabar:\n",
            "          tanggal  KASUS  MENINGGAL  SEMBUH  DIRAWAT_OR_ISOLASI  \\\n",
            "0  1583193600000      1          1       0                   0   \n",
            "1  1583280000000      1          0       0                   1   \n",
            "2  1583366400000      1          0       0                   1   \n",
            "3  1583452800000      1          0       0                   1   \n",
            "4  1583539200000      0          0       0                   0   \n",
            "\n",
            "   AKUMULASI_KASUS  AKUMULASI_SEMBUH  AKUMULASI_MENINGGAL  \\\n",
            "0                1                 0                    1   \n",
            "1                2                 0                    1   \n",
            "2                3                 0                    1   \n",
            "3                4                 0                    1   \n",
            "4                4                 0                    1   \n",
            "\n",
            "   AKUMULASI_DIRAWAT_OR_ISOLASI  \n",
            "0                             0  \n",
            "1                             1  \n",
            "2                             2  \n",
            "3                             3  \n",
            "4                             3  \n"
          ]
        },
        {
          "output_type": "stream",
          "name": "stderr",
          "text": [
            "/usr/local/lib/python3.8/dist-packages/urllib3/connectionpool.py:842: InsecureRequestWarning: Unverified HTTPS request is being made. Adding certificate verification is strongly advised. See: https://urllib3.readthedocs.io/en/latest/advanced-usage.html#ssl-warnings\n",
            "  warnings.warn((\n"
          ]
        }
      ]
    },
    {
      "cell_type": "markdown",
      "source": [
        "## Menjinakkan Data"
      ],
      "metadata": {
        "id": "vE9xqa9UQlL7"
      }
    },
    {
      "cell_type": "code",
      "source": [
        "resp_jabar = requests.get('https://storage.googleapis.com/dqlab-dataset/prov_detail_JAWA_BARAT.json', verify=False)\n",
        "cov_jabar_raw = resp_jabar.json()\n",
        "cov_jabar = pd.DataFrame(cov_jabar_raw['list_perkembangan'])\n",
        "\n",
        "cov_jabar_tidy = (cov_jabar.drop(columns=[item for item in cov_jabar.columns \n",
        "                                               if item.startswith('AKUMULASI') \n",
        "                                                  or item.startswith('DIRAWAT')])\n",
        "                           .rename(columns=str.lower)\n",
        "                           .rename(columns={'kasus': 'kasus_baru'})\n",
        "                  )\n",
        "cov_jabar_tidy['tanggal'] = pd.to_datetime(cov_jabar_tidy['tanggal']*1e6, unit='ns')\n",
        "print('Lima data teratas:\\n', cov_jabar_tidy.head())"
      ],
      "metadata": {
        "colab": {
          "base_uri": "https://localhost:8080/"
        },
        "id": "XN1nLpDyQlUM",
        "outputId": "e9750bce-3035-4d9f-b937-5f8fb24efe9e"
      },
      "execution_count": 12,
      "outputs": [
        {
          "output_type": "stream",
          "name": "stdout",
          "text": [
            "Lima data teratas:\n",
            "      tanggal  kasus_baru  meninggal  sembuh\n",
            "0 2020-03-03           1          1       0\n",
            "1 2020-03-04           1          0       0\n",
            "2 2020-03-05           1          0       0\n",
            "3 2020-03-06           1          0       0\n",
            "4 2020-03-07           0          0       0\n"
          ]
        },
        {
          "output_type": "stream",
          "name": "stderr",
          "text": [
            "/usr/local/lib/python3.8/dist-packages/urllib3/connectionpool.py:842: InsecureRequestWarning: Unverified HTTPS request is being made. Adding certificate verification is strongly advised. See: https://urllib3.readthedocs.io/en/latest/advanced-usage.html#ssl-warnings\n",
            "  warnings.warn((\n"
          ]
        }
      ]
    },
    {
      "cell_type": "markdown",
      "source": [
        "## Menunjukkan Melalui Gambar"
      ],
      "metadata": {
        "id": "UNDoY4bbQlbb"
      }
    },
    {
      "cell_type": "code",
      "source": [
        "import matplotlib.pyplot as plt"
      ],
      "metadata": {
        "id": "K4WLNq4MQliC"
      },
      "execution_count": 13,
      "outputs": []
    },
    {
      "cell_type": "markdown",
      "source": [
        "## Menunjukkan Melalui Gambar - 2"
      ],
      "metadata": {
        "id": "BKjLG0StQloI"
      }
    },
    {
      "cell_type": "code",
      "source": [
        "resp_jabar = requests.get('https://storage.googleapis.com/dqlab-dataset/prov_detail_JAWA_BARAT.json', verify=False)\n",
        "cov_jabar_raw = resp_jabar.json()\n",
        "cov_jabar = pd.DataFrame(cov_jabar_raw['list_perkembangan'])\n",
        "\n",
        "cov_jabar_tidy = (cov_jabar.drop(columns=[item for item in cov_jabar.columns \n",
        "                                               if item.startswith('AKUMULASI') \n",
        "                                                  or item.startswith('DIRAWAT')])\n",
        "                           .rename(columns=str.lower)\n",
        "                           .rename(columns={'kasus': 'kasus_baru'})\n",
        "                  )\n",
        "cov_jabar_tidy['tanggal'] = pd.to_datetime(cov_jabar_tidy['tanggal']*1e6, unit='ns')\n",
        "\n",
        "plt.clf()\n",
        "fig, ax = plt.subplots(figsize=(10,5))\n",
        "ax.bar(data=cov_jabar_tidy, x='tanggal', height='kasus_baru')\n",
        "plt.show()"
      ],
      "metadata": {
        "colab": {
          "base_uri": "https://localhost:8080/",
          "height": 394
        },
        "id": "LOWlEcmdQlvU",
        "outputId": "7bf0f9f9-9e51-480f-d44a-c2a8c9178689"
      },
      "execution_count": 14,
      "outputs": [
        {
          "output_type": "stream",
          "name": "stderr",
          "text": [
            "/usr/local/lib/python3.8/dist-packages/urllib3/connectionpool.py:842: InsecureRequestWarning: Unverified HTTPS request is being made. Adding certificate verification is strongly advised. See: https://urllib3.readthedocs.io/en/latest/advanced-usage.html#ssl-warnings\n",
            "  warnings.warn((\n"
          ]
        },
        {
          "output_type": "display_data",
          "data": {
            "text/plain": [
              "<Figure size 432x288 with 0 Axes>"
            ]
          },
          "metadata": {}
        },
        {
          "output_type": "display_data",
          "data": {
            "text/plain": [
              "<Figure size 720x360 with 1 Axes>"
            ],
            "image/png": "[encoded data removed]"
          },
          "metadata": {
            "needs_background": "light"
          }
        }
      ]
    },
    {
      "cell_type": "markdown",
      "source": [
        "## Informasi pada Grafik"
      ],
      "metadata": {
        "id": "KfNSDFB-Ql1O"
      }
    },
    {
      "cell_type": "code",
      "source": [
        "resp_jabar = requests.get('https://storage.googleapis.com/dqlab-dataset/prov_detail_JAWA_BARAT.json', verify=False)\n",
        "cov_jabar_raw = resp_jabar.json()\n",
        "cov_jabar = pd.DataFrame(cov_jabar_raw['list_perkembangan'])\n",
        "\n",
        "cov_jabar_tidy = (cov_jabar.drop(columns=[item for item in cov_jabar.columns \n",
        "                                               if item.startswith('AKUMULASI') \n",
        "                                                  or item.startswith('DIRAWAT')])\n",
        "                           .rename(columns=str.lower)\n",
        "                           .rename(columns={'kasus': 'kasus_baru'})\n",
        "                  )\n",
        "cov_jabar_tidy['tanggal'] = pd.to_datetime(cov_jabar_tidy['tanggal']*1e6, unit='ns')\n",
        "\n",
        "import matplotlib.dates as mdates\n",
        "\n",
        "plt.clf()\n",
        "fig, ax = plt.subplots(figsize=(10,5))\n",
        "ax.bar(data=cov_jabar_tidy, x='tanggal', height='kasus_baru', color='salmon')\n",
        "fig.suptitle('Kasus Harian Positif COVID-19 di Jawa Barat', \n",
        "             y=1.00, fontsize=16, fontweight='bold', ha='center')\n",
        "ax.set_title('Terjadi pelonjakan kasus di awal bulan Juli akibat klaster Secapa AD Bandung',\n",
        "             fontsize=10)\n",
        "ax.set_xlabel('')\n",
        "ax.set_ylabel('Jumlah kasus')\n",
        "ax.text(1, -0.3, 'Sumber data: covid.19.go.id', color='blue',\n",
        "        ha='right', transform=ax.transAxes)\n",
        "ax.set_xticklabels(ax.get_xticks(), rotation=90)\n",
        "\n",
        "ax.xaxis.set_major_locator(mdates.MonthLocator())\n",
        "ax.xaxis.set_major_formatter(mdates.DateFormatter('%b %Y'))\n",
        "\n",
        "plt.grid(axis='y')\n",
        "plt.tight_layout()\n",
        "plt.show()"
      ],
      "metadata": {
        "colab": {
          "base_uri": "https://localhost:8080/",
          "height": 445
        },
        "id": "1twbAwcbQl9D",
        "outputId": "5031b070-4a62-4557-8e9d-df400ebd16f5"
      },
      "execution_count": 15,
      "outputs": [
        {
          "output_type": "stream",
          "name": "stderr",
          "text": [
            "/usr/local/lib/python3.8/dist-packages/urllib3/connectionpool.py:842: InsecureRequestWarning: Unverified HTTPS request is being made. Adding certificate verification is strongly advised. See: https://urllib3.readthedocs.io/en/latest/advanced-usage.html#ssl-warnings\n",
            "  warnings.warn((\n"
          ]
        },
        {
          "output_type": "display_data",
          "data": {
            "text/plain": [
              "<Figure size 432x288 with 0 Axes>"
            ]
          },
          "metadata": {}
        },
        {
          "output_type": "display_data",
          "data": {
            "text/plain": [
              "<Figure size 720x360 with 1 Axes>"
            ],
            "image/png": "[encoded data removed]"
          },
          "metadata": {
            "needs_background": "light"
          }
        }
      ]
    },
    {
      "cell_type": "markdown",
      "source": [
        "## Grafik untuk Kasus Sembuh"
      ],
      "metadata": {
        "id": "XTDWn4oYQmOl"
      }
    },
    {
      "cell_type": "code",
      "source": [
        "resp_jabar = requests.get('https://storage.googleapis.com/dqlab-dataset/prov_detail_JAWA_BARAT.json', verify=False)\n",
        "cov_jabar_raw = resp_jabar.json()\n",
        "cov_jabar = pd.DataFrame(cov_jabar_raw['list_perkembangan'])\n",
        "\n",
        "cov_jabar_tidy = (cov_jabar.drop(columns=[item for item in cov_jabar.columns \n",
        "                                               if item.startswith('AKUMULASI') \n",
        "                                                  or item.startswith('DIRAWAT')])\n",
        "                           .rename(columns=str.lower)\n",
        "                           .rename(columns={'kasus': 'kasus_baru'})\n",
        "                  )\n",
        "cov_jabar_tidy['tanggal'] = pd.to_datetime(cov_jabar_tidy['tanggal']*1e6, unit='ns')\n",
        "\n",
        "plt.clf()\n",
        "fig, ax = plt.subplots(figsize=(10,5))\n",
        "ax.bar(data=cov_jabar_tidy, x='tanggal', height='sembuh', color='olivedrab')\n",
        "ax.set_title('Kasus Harian Sembuh Dari COVID-19 di Jawa Barat',\n",
        "             fontsize=22)\n",
        "ax.set_xlabel('')\n",
        "ax.set_ylabel('jumlah kasus')\n",
        "ax.text(1, -0.3, 'Sumber data: covid.19.go.id', color='blue',\n",
        "        ha='right', transform=ax.transAxes)\n",
        "ax.set_xticklabels(ax.get_xticks(), rotation=90)\n",
        "\n",
        "ax.xaxis.set_major_locator(mdates.MonthLocator())\n",
        "ax.xaxis.set_major_formatter(mdates.DateFormatter('%b %Y'))\n",
        "\n",
        "plt.grid(axis='y')\n",
        "plt.tight_layout()\n",
        "plt.show()"
      ],
      "metadata": {
        "colab": {
          "base_uri": "https://localhost:8080/",
          "height": 432
        },
        "id": "q-ZFNKlyQmUK",
        "outputId": "fbcb53db-0383-4f78-fcaf-3f5a1d2bb566"
      },
      "execution_count": 16,
      "outputs": [
        {
          "output_type": "stream",
          "name": "stderr",
          "text": [
            "/usr/local/lib/python3.8/dist-packages/urllib3/connectionpool.py:842: InsecureRequestWarning: Unverified HTTPS request is being made. Adding certificate verification is strongly advised. See: https://urllib3.readthedocs.io/en/latest/advanced-usage.html#ssl-warnings\n",
            "  warnings.warn((\n"
          ]
        },
        {
          "output_type": "display_data",
          "data": {
            "text/plain": [
              "<Figure size 432x288 with 0 Axes>"
            ]
          },
          "metadata": {}
        },
        {
          "output_type": "display_data",
          "data": {
            "text/plain": [
              "<Figure size 720x360 with 1 Axes>"
            ],
            "image/png": "[encoded data removed]"
          },
          "metadata": {
            "needs_background": "light"
          }
        }
      ]
    },
    {
      "cell_type": "markdown",
      "source": [
        "## Grafik untuk Kasus Meninggal"
      ],
      "metadata": {
        "id": "2hWgK_NnQmaB"
      }
    },
    {
      "cell_type": "code",
      "source": [
        "resp_jabar = requests.get('https://storage.googleapis.com/dqlab-dataset/prov_detail_JAWA_BARAT.json', verify=False)\n",
        "cov_jabar_raw = resp_jabar.json()\n",
        "cov_jabar = pd.DataFrame(cov_jabar_raw['list_perkembangan'])\n",
        "\n",
        "cov_jabar_tidy = (cov_jabar.drop(columns=[item for item in cov_jabar.columns \n",
        "                                               if item.startswith('AKUMULASI') \n",
        "                                                  or item.startswith('DIRAWAT')])\n",
        "                           .rename(columns=str.lower)\n",
        "                           .rename(columns={'kasus': 'kasus_baru'})\n",
        "                  )\n",
        "cov_jabar_tidy['tanggal'] = pd.to_datetime(cov_jabar_tidy['tanggal']*1e6, unit='ns')\n",
        "\n",
        "plt.clf()\n",
        "fig, ax = plt.subplots(figsize=(10,5))\n",
        "ax.bar(data=cov_jabar_tidy, x='tanggal', height='meninggal', color='slategrey')\n",
        "ax.set_title('Kasus Harian Meninggal Dari COVID-19 di Jawa Barat',\n",
        "             fontsize=22)\n",
        "ax.set_xlabel('')\n",
        "ax.set_ylabel('jumlah kasus')\n",
        "ax.text(1, -0.3, 'sumber data: covid.19.go.id', color='blue',\n",
        "        ha='right', transform=ax.transAxes)\n",
        "ax.set_xticklabels(ax.get_xticks(), rotation=90)\n",
        "\n",
        "ax.xaxis.set_major_locator(mdates.MonthLocator())\n",
        "ax.xaxis.set_major_formatter(mdates.DateFormatter('%b %Y'))\n",
        "\n",
        "plt.grid(axis='y')\n",
        "plt.tight_layout()\n",
        "plt.show()"
      ],
      "metadata": {
        "colab": {
          "base_uri": "https://localhost:8080/",
          "height": 432
        },
        "id": "I5Jf8b1vQmfb",
        "outputId": "407265e5-7d01-4673-88dc-2d85a7da071f"
      },
      "execution_count": 17,
      "outputs": [
        {
          "output_type": "stream",
          "name": "stderr",
          "text": [
            "/usr/local/lib/python3.8/dist-packages/urllib3/connectionpool.py:842: InsecureRequestWarning: Unverified HTTPS request is being made. Adding certificate verification is strongly advised. See: https://urllib3.readthedocs.io/en/latest/advanced-usage.html#ssl-warnings\n",
            "  warnings.warn((\n"
          ]
        },
        {
          "output_type": "display_data",
          "data": {
            "text/plain": [
              "<Figure size 432x288 with 0 Axes>"
            ]
          },
          "metadata": {}
        },
        {
          "output_type": "display_data",
          "data": {
            "text/plain": [
              "<Figure size 720x360 with 1 Axes>"
            ],
            "image/png": "[encoded data removed]"
          },
          "metadata": {
            "needs_background": "light"
          }
        }
      ]
    },
    {
      "cell_type": "markdown",
      "source": [
        "# Eksplorasi dan Analisis Data COVID-19 Indonesia using Python"
      ],
      "metadata": {
        "id": "Xm6SXY7wQmlv"
      }
    },
    {
      "cell_type": "markdown",
      "source": [
        "## Apakah Pekan ini Lebih Baik?"
      ],
      "metadata": {
        "id": "Z3raIYWDRtMC"
      }
    },
    {
      "cell_type": "code",
      "source": [
        "resp_jabar = requests.get('https://storage.googleapis.com/dqlab-dataset/prov_detail_JAWA_BARAT.json', verify=False)\n",
        "cov_jabar_raw = resp_jabar.json()\n",
        "cov_jabar = pd.DataFrame(cov_jabar_raw['list_perkembangan'])\n",
        "\n",
        "cov_jabar_tidy = (cov_jabar.drop(columns=[item for item in cov_jabar.columns \n",
        "                                               if item.startswith('AKUMULASI') \n",
        "                                                  or item.startswith('DIRAWAT')])\n",
        "                           .rename(columns=str.lower)\n",
        "                           .rename(columns={'kasus': 'kasus_baru'})\n",
        "                  )\n",
        "cov_jabar_tidy['tanggal'] = pd.to_datetime(cov_jabar_tidy['tanggal']*1e6, unit='ns')\n",
        "\n",
        "cov_jabar_pekanan = (cov_jabar_tidy.set_index('tanggal')['kasus_baru']\n",
        "                                   .resample('W')\n",
        "                                   .sum()\n",
        "                                   .reset_index()\n",
        "                                   .rename(columns={'kasus_baru': 'jumlah'})\n",
        "                    )\n",
        "cov_jabar_pekanan['tahun'] = cov_jabar_pekanan['tanggal'].apply(lambda x: x.year)\n",
        "cov_jabar_pekanan['pekan_ke'] = cov_jabar_pekanan['tanggal'].apply(lambda x: x.weekofyear)\n",
        "cov_jabar_pekanan = cov_jabar_pekanan[['tahun', 'pekan_ke', 'jumlah']]\n",
        "\n",
        "print('Info cov_jabar_pekanan:')\n",
        "print(cov_jabar_pekanan.info())\n",
        "print('\\nLima data teratas cov_jabar_pekanan:\\n', cov_jabar_pekanan.head())"
      ],
      "metadata": {
        "colab": {
          "base_uri": "https://localhost:8080/"
        },
        "id": "c2SUZ8TVQmrf",
        "outputId": "a09822f1-8eeb-4f98-d54a-cc0c726e2032"
      },
      "execution_count": 18,
      "outputs": [
        {
          "output_type": "stream",
          "name": "stdout",
          "text": [
            "Info cov_jabar_pekanan:\n",
            "<class 'pandas.core.frame.DataFrame'>\n",
            "RangeIndex: 113 entries, 0 to 112\n",
            "Data columns (total 3 columns):\n",
            " #   Column    Non-Null Count  Dtype\n",
            "---  ------    --------------  -----\n",
            " 0   tahun     113 non-null    int64\n",
            " 1   pekan_ke  113 non-null    int64\n",
            " 2   jumlah    113 non-null    int64\n",
            "dtypes: int64(3)\n",
            "memory usage: 2.8 KB\n",
            "None\n",
            "\n",
            "Lima data teratas cov_jabar_pekanan:\n",
            "    tahun  pekan_ke  jumlah\n",
            "0   2020        10       4\n",
            "1   2020        11       5\n",
            "2   2020        12      44\n",
            "3   2020        13      80\n",
            "4   2020        14      89\n"
          ]
        },
        {
          "output_type": "stream",
          "name": "stderr",
          "text": [
            "/usr/local/lib/python3.8/dist-packages/urllib3/connectionpool.py:842: InsecureRequestWarning: Unverified HTTPS request is being made. Adding certificate verification is strongly advised. See: https://urllib3.readthedocs.io/en/latest/advanced-usage.html#ssl-warnings\n",
            "  warnings.warn((\n"
          ]
        }
      ]
    },
    {
      "cell_type": "markdown",
      "source": [
        "## Menjawab Pertanyaan"
      ],
      "metadata": {
        "id": "21lhEiheQmwA"
      }
    },
    {
      "cell_type": "code",
      "source": [
        "resp_jabar = requests.get('https://storage.googleapis.com/dqlab-dataset/prov_detail_JAWA_BARAT.json', verify=False)\n",
        "cov_jabar_raw = resp_jabar.json()\n",
        "cov_jabar = pd.DataFrame(cov_jabar_raw['list_perkembangan'])\n",
        "\n",
        "cov_jabar_tidy = (cov_jabar.drop(columns=[item for item in cov_jabar.columns \n",
        "                                               if item.startswith('AKUMULASI') \n",
        "                                                  or item.startswith('DIRAWAT')])\n",
        "                           .rename(columns=str.lower)\n",
        "                           .rename(columns={'kasus': 'kasus_baru'})\n",
        "                  )\n",
        "cov_jabar_tidy['tanggal'] = pd.to_datetime(cov_jabar_tidy['tanggal']*1e6, unit='ns')\n",
        "\n",
        "cov_jabar_pekanan = (cov_jabar_tidy.set_index('tanggal')['kasus_baru']\n",
        "                                   .resample('W')\n",
        "                                   .sum()\n",
        "                                   .reset_index()\n",
        "                                   .rename(columns={'kasus_baru': 'jumlah'})\n",
        "                    )\n",
        "cov_jabar_pekanan['tahun'] = cov_jabar_pekanan['tanggal'].apply(lambda x: x.year)\n",
        "cov_jabar_pekanan['pekan_ke'] = cov_jabar_pekanan['tanggal'].apply(lambda x: x.weekofyear)\n",
        "cov_jabar_pekanan = cov_jabar_pekanan[['tahun', 'pekan_ke', 'jumlah']]\n",
        "\n",
        "cov_jabar_pekanan['jumlah_pekanlalu'] = cov_jabar_pekanan['jumlah'].shift().replace(np.nan, 0).astype(np.int)\n",
        "cov_jabar_pekanan['lebih_baik'] = cov_jabar_pekanan['jumlah'] < cov_jabar_pekanan['jumlah_pekanlalu']\n",
        "\n",
        "print('Sepuluh data teratas:\\n', cov_jabar_pekanan.head(10))"
      ],
      "metadata": {
        "colab": {
          "base_uri": "https://localhost:8080/"
        },
        "id": "Ir57nbCEQm1N",
        "outputId": "005e4c89-5b89-4c92-c2b8-32092101c48f"
      },
      "execution_count": 19,
      "outputs": [
        {
          "output_type": "stream",
          "name": "stdout",
          "text": [
            "Sepuluh data teratas:\n",
            "    tahun  pekan_ke  jumlah  jumlah_pekanlalu  lebih_baik\n",
            "0   2020        10       4                 0       False\n",
            "1   2020        11       5                 4       False\n",
            "2   2020        12      44                 5       False\n",
            "3   2020        13      80                44       False\n",
            "4   2020        14      89                80       False\n",
            "5   2020        15     176                89       False\n",
            "6   2020        16     203               176       False\n",
            "7   2020        17     136               203        True\n",
            "8   2020        18     100               136        True\n",
            "9   2020        19     914               100       False\n"
          ]
        },
        {
          "output_type": "stream",
          "name": "stderr",
          "text": [
            "/usr/local/lib/python3.8/dist-packages/urllib3/connectionpool.py:842: InsecureRequestWarning: Unverified HTTPS request is being made. Adding certificate verification is strongly advised. See: https://urllib3.readthedocs.io/en/latest/advanced-usage.html#ssl-warnings\n",
            "  warnings.warn((\n",
            "<ipython-input-19-593acf7f26d4>:26: DeprecationWarning: `np.int` is a deprecated alias for the builtin `int`. To silence this warning, use `int` by itself. Doing this will not modify any behavior and is safe. When replacing `np.int`, you may wish to use e.g. `np.int64` or `np.int32` to specify the precision. If you wish to review your current use, check the release note link for additional information.\n",
            "Deprecated in NumPy 1.20; for more details and guidance: https://numpy.org/devdocs/release/1.20.0-notes.html#deprecations\n",
            "  cov_jabar_pekanan['jumlah_pekanlalu'] = cov_jabar_pekanan['jumlah'].shift().replace(np.nan, 0).astype(np.int)\n"
          ]
        }
      ]
    },
    {
      "cell_type": "markdown",
      "source": [
        "## Membuat Bar Chart"
      ],
      "metadata": {
        "id": "ZJM4IpQaQm7k"
      }
    },
    {
      "cell_type": "code",
      "source": [
        "resp_jabar = requests.get('https://storage.googleapis.com/dqlab-dataset/prov_detail_JAWA_BARAT.json', verify=False)\n",
        "cov_jabar_raw = resp_jabar.json()\n",
        "cov_jabar = pd.DataFrame(cov_jabar_raw['list_perkembangan'])\n",
        "\n",
        "cov_jabar_tidy = (cov_jabar.drop(columns=[item for item in cov_jabar.columns \n",
        "                                               if item.startswith('AKUMULASI') \n",
        "                                                  or item.startswith('DIRAWAT')])\n",
        "                           .rename(columns=str.lower)\n",
        "                           .rename(columns={'kasus': 'kasus_baru'})\n",
        "                  )\n",
        "cov_jabar_tidy['tanggal'] = pd.to_datetime(cov_jabar_tidy['tanggal']*1e6, unit='ns')\n",
        "\n",
        "cov_jabar_pekanan = (cov_jabar_tidy.set_index('tanggal')['kasus_baru']\n",
        "                                   .resample('W')\n",
        "                                   .sum()\n",
        "                                   .reset_index()\n",
        "                                   .rename(columns={'kasus_baru': 'jumlah'})\n",
        "                    )\n",
        "cov_jabar_pekanan['tahun'] = cov_jabar_pekanan['tanggal'].apply(lambda x: x.year)\n",
        "cov_jabar_pekanan['pekan_ke'] = cov_jabar_pekanan['tanggal'].apply(lambda x: x.weekofyear)\n",
        "cov_jabar_pekanan = cov_jabar_pekanan[['tahun', 'pekan_ke', 'jumlah']]\n",
        "\n",
        "cov_jabar_pekanan['jumlah_pekanlalu'] = cov_jabar_pekanan['jumlah'].shift().replace(np.nan, 0).astype(np.int)\n",
        "cov_jabar_pekanan['lebih_baik'] = cov_jabar_pekanan['jumlah'] < cov_jabar_pekanan['jumlah_pekanlalu']\n",
        "\n",
        "plt.clf()\n",
        "jml_tahun_terjadi_covid19 = cov_jabar_pekanan['tahun'].nunique()\n",
        "tahun_terjadi_covid19 = cov_jabar_pekanan['tahun'].unique()\n",
        "fig, axes = plt.subplots(nrows=jml_tahun_terjadi_covid19,\n",
        "\t\t\t\t\t\tfigsize=(10,3*jml_tahun_terjadi_covid19))\n",
        "\n",
        "fig.suptitle('Kasus Pekanan Positif COVID-19 di Jawa Barat',\n",
        "\t\t\ty=1.00, fontsize=16, fontweight='bold', ha='center')\n",
        "for i, ax in enumerate(axes):\n",
        "\tax.bar(data=cov_jabar_pekanan.loc[cov_jabar_pekanan['tahun']==tahun_terjadi_covid19[i]],\n",
        "\t\t  x='pekan_ke', height='jumlah',\n",
        "\t\t  color=['mediumseagreen' if x is True else 'salmon'\n",
        "\t\t\t\tfor x in cov_jabar_pekanan['lebih_baik']])\n",
        "\tif i == 0:\n",
        "\t\tax.set_title('Kolom hijau menunjukkan penambahan kasus baru lebih sedikit dibandingkan satu pekan sebelumnya',\n",
        "\t\t\t\t\tfontsize=10)\n",
        "\telif i == jml_tahun_terjadi_covid19-1:\n",
        "\t\tax.text(1, -0.2, 'Sumber data: covid.19.go.id', color='blue',\n",
        "\t\t\t\tha='right', transform=ax.transAxes)\n",
        "\t\t\t\n",
        "\tax.set_xlim([0, 52.5])\n",
        "\tax.set_ylim([0, max(cov_jabar_pekanan['jumlah'])])\n",
        "\tax.set_xlabel('')\n",
        "\tax.set_ylabel('Jumlah kasus%d'%(tahun_terjadi_covid19[i],))\n",
        "\tax.grid(axis='y')\n",
        "\t\t\n",
        "plt.tight_layout()\n",
        "plt.show()"
      ],
      "metadata": {
        "colab": {
          "base_uri": "https://localhost:8080/",
          "height": 803
        },
        "id": "bqQHz1tvQnAC",
        "outputId": "fdeefada-8fb2-48c8-ff06-0e21c085cfd7"
      },
      "execution_count": 20,
      "outputs": [
        {
          "output_type": "stream",
          "name": "stderr",
          "text": [
            "/usr/local/lib/python3.8/dist-packages/urllib3/connectionpool.py:842: InsecureRequestWarning: Unverified HTTPS request is being made. Adding certificate verification is strongly advised. See: https://urllib3.readthedocs.io/en/latest/advanced-usage.html#ssl-warnings\n",
            "  warnings.warn((\n",
            "<ipython-input-20-ae371e218d39>:26: DeprecationWarning: `np.int` is a deprecated alias for the builtin `int`. To silence this warning, use `int` by itself. Doing this will not modify any behavior and is safe. When replacing `np.int`, you may wish to use e.g. `np.int64` or `np.int32` to specify the precision. If you wish to review your current use, check the release note link for additional information.\n",
            "Deprecated in NumPy 1.20; for more details and guidance: https://numpy.org/devdocs/release/1.20.0-notes.html#deprecations\n",
            "  cov_jabar_pekanan['jumlah_pekanlalu'] = cov_jabar_pekanan['jumlah'].shift().replace(np.nan, 0).astype(np.int)\n"
          ]
        },
        {
          "output_type": "display_data",
          "data": {
            "text/plain": [
              "<Figure size 432x288 with 0 Axes>"
            ]
          },
          "metadata": {}
        },
        {
          "output_type": "display_data",
          "data": {
            "text/plain": [
              "<Figure size 720x648 with 3 Axes>"
            ],
            "image/png": "[encoded data removed]"
          },
          "metadata": {
            "needs_background": "light"
          }
        }
      ]
    },
    {
      "cell_type": "markdown",
      "source": [
        "## Pola dan Dinamika"
      ],
      "metadata": {
        "id": "1FQGwrGtSDoH"
      }
    },
    {
      "cell_type": "code",
      "source": [
        "resp_jabar = requests.get('https://storage.googleapis.com/dqlab-dataset/prov_detail_JAWA_BARAT.json', verify=False)\n",
        "cov_jabar_raw = resp_jabar.json()\n",
        "cov_jabar = pd.DataFrame(cov_jabar_raw['list_perkembangan'])\n",
        "\n",
        "cov_jabar_tidy = (cov_jabar.drop(columns=[item for item in cov_jabar.columns \n",
        "                                               if item.startswith('AKUMULASI') \n",
        "                                                  or item.startswith('DIRAWAT')])\n",
        "                           .rename(columns=str.lower)\n",
        "                           .rename(columns={'kasus': 'kasus_baru'})\n",
        "                  )\n",
        "cov_jabar_tidy['tanggal'] = pd.to_datetime(cov_jabar_tidy['tanggal']*1e6, unit='ns')\n",
        "\n",
        "cov_jabar_akumulasi = cov_jabar_tidy[['tanggal']].copy()\n",
        "cov_jabar_akumulasi['akumulasi_aktif'] = (cov_jabar_tidy['kasus_baru'] - cov_jabar_tidy['sembuh'] - cov_jabar_tidy['meninggal']).cumsum()\n",
        "cov_jabar_akumulasi['akumulasi_sembuh'] = cov_jabar_tidy['sembuh'].cumsum()\n",
        "cov_jabar_akumulasi['akumulasi_meninggal'] = cov_jabar_tidy['meninggal'].cumsum()\n",
        "print(cov_jabar_akumulasi.tail())"
      ],
      "metadata": {
        "colab": {
          "base_uri": "https://localhost:8080/"
        },
        "id": "EBgg8TdSSCk_",
        "outputId": "6a9af0d5-67e6-4c43-cff5-91ce69b30e56"
      },
      "execution_count": 21,
      "outputs": [
        {
          "output_type": "stream",
          "name": "stdout",
          "text": [
            "       tanggal  akumulasi_aktif  akumulasi_sembuh  akumulasi_meninggal\n",
            "780 2022-04-22            10753           1078344                15735\n",
            "781 2022-04-23             9882           1079297                15737\n",
            "782 2022-04-24             8709           1080519                15748\n",
            "783 2022-04-25             5428           1083851                15751\n",
            "784 2022-04-26             3253           1086129                15752\n"
          ]
        },
        {
          "output_type": "stream",
          "name": "stderr",
          "text": [
            "/usr/local/lib/python3.8/dist-packages/urllib3/connectionpool.py:842: InsecureRequestWarning: Unverified HTTPS request is being made. Adding certificate verification is strongly advised. See: https://urllib3.readthedocs.io/en/latest/advanced-usage.html#ssl-warnings\n",
            "  warnings.warn((\n"
          ]
        }
      ]
    },
    {
      "cell_type": "markdown",
      "source": [
        "## Membuat Line Chart"
      ],
      "metadata": {
        "id": "piBO2rVaSEbK"
      }
    },
    {
      "cell_type": "code",
      "source": [
        "resp_jabar = requests.get('https://storage.googleapis.com/dqlab-dataset/prov_detail_JAWA_BARAT.json', verify=False)\n",
        "cov_jabar_raw = resp_jabar.json()\n",
        "cov_jabar = pd.DataFrame(cov_jabar_raw['list_perkembangan'])\n",
        "\n",
        "cov_jabar_tidy = (cov_jabar.drop(columns=[item for item in cov_jabar.columns \n",
        "                                               if item.startswith('AKUMULASI') \n",
        "                                                  or item.startswith('DIRAWAT')])\n",
        "                           .rename(columns=str.lower)\n",
        "                           .rename(columns={'kasus': 'kasus_baru'})\n",
        "                  )\n",
        "cov_jabar_tidy['tanggal'] = pd.to_datetime(cov_jabar_tidy['tanggal']*1e6, unit='ns')\n",
        "\n",
        "cov_jabar_akumulasi = cov_jabar_tidy[['tanggal']].copy()\n",
        "cov_jabar_akumulasi['akumulasi_aktif'] = (cov_jabar_tidy['kasus_baru'] - cov_jabar_tidy['sembuh'] - cov_jabar_tidy['meninggal']).cumsum()\n",
        "cov_jabar_akumulasi['akumulasi_sembuh'] = cov_jabar_tidy['sembuh'].cumsum()\n",
        "cov_jabar_akumulasi['akumulasi_meninggal'] = cov_jabar_tidy['meninggal'].cumsum()\n",
        "\n",
        "plt.clf()\n",
        "fig, ax = plt.subplots(figsize=(10,5))\n",
        "ax.plot('tanggal', 'akumulasi_aktif', data=cov_jabar_akumulasi, lw=2)\n",
        "\n",
        "ax.set_title('Akumulasi aktif COVID-19 di Jawa Barat',\n",
        "             fontsize=22)\n",
        "ax.set_xlabel('')\n",
        "ax.set_ylabel('Akumulasi aktif')\n",
        "ax.text(1, -0.3, 'Sumber data: covid.19.go.id', color='blue',\n",
        "        ha='right', transform=ax.transAxes)\n",
        "ax.set_xticklabels(ax.get_xticks(), rotation=90)\n",
        "\n",
        "ax.xaxis.set_major_locator(mdates.MonthLocator())\n",
        "ax.xaxis.set_major_formatter(mdates.DateFormatter('%b %Y'))\n",
        "\n",
        "plt.grid()\n",
        "plt.tight_layout()\n",
        "plt.show()"
      ],
      "metadata": {
        "colab": {
          "base_uri": "https://localhost:8080/",
          "height": 432
        },
        "id": "jQ_n71qtSEnp",
        "outputId": "7f1111af-f00d-4654-f2a3-c90f1644d4ee"
      },
      "execution_count": 22,
      "outputs": [
        {
          "output_type": "stream",
          "name": "stderr",
          "text": [
            "/usr/local/lib/python3.8/dist-packages/urllib3/connectionpool.py:842: InsecureRequestWarning: Unverified HTTPS request is being made. Adding certificate verification is strongly advised. See: https://urllib3.readthedocs.io/en/latest/advanced-usage.html#ssl-warnings\n",
            "  warnings.warn((\n"
          ]
        },
        {
          "output_type": "display_data",
          "data": {
            "text/plain": [
              "<Figure size 432x288 with 0 Axes>"
            ]
          },
          "metadata": {}
        },
        {
          "output_type": "display_data",
          "data": {
            "text/plain": [
              "<Figure size 720x360 with 1 Axes>"
            ],
            "image/png": "[encoded data removed]"
          },
          "metadata": {
            "needs_background": "light"
          }
        }
      ]
    },
    {
      "cell_type": "markdown",
      "source": [
        "## Kabar Buruk dan Kabar Baik"
      ],
      "metadata": {
        "id": "jpTw3VPDSExz"
      }
    },
    {
      "cell_type": "code",
      "source": [
        "True"
      ],
      "metadata": {
        "colab": {
          "base_uri": "https://localhost:8080/"
        },
        "id": "_aBC5y7dSE5p",
        "outputId": "0b441d3a-6f8e-4341-8eca-eadc0afe064a"
      },
      "execution_count": 23,
      "outputs": [
        {
          "output_type": "execute_result",
          "data": {
            "text/plain": [
              "True"
            ]
          },
          "metadata": {},
          "execution_count": 23
        }
      ]
    },
    {
      "cell_type": "markdown",
      "source": [
        "## Tahap Terakhir"
      ],
      "metadata": {
        "id": "Q0j6m1o6SFCi"
      }
    },
    {
      "cell_type": "code",
      "source": [
        "resp_jabar = requests.get('https://storage.googleapis.com/dqlab-dataset/prov_detail_JAWA_BARAT.json', verify=False)\n",
        "cov_jabar_raw = resp_jabar.json()\n",
        "cov_jabar = pd.DataFrame(cov_jabar_raw['list_perkembangan'])\n",
        "\n",
        "cov_jabar_tidy = (cov_jabar.drop(columns=[item for item in cov_jabar.columns \n",
        "                                               if item.startswith('AKUMULASI') \n",
        "                                                  or item.startswith('DIRAWAT')])\n",
        "                           .rename(columns=str.lower)\n",
        "                           .rename(columns={'kasus': 'kasus_baru'})\n",
        "                  )\n",
        "cov_jabar_tidy['tanggal'] = pd.to_datetime(cov_jabar_tidy['tanggal']*1e6, unit='ns')\n",
        "\n",
        "cov_jabar_akumulasi = cov_jabar_tidy[['tanggal']].copy()\n",
        "cov_jabar_akumulasi['akumulasi_aktif'] = (cov_jabar_tidy['kasus_baru'] - cov_jabar_tidy['sembuh'] - cov_jabar_tidy['meninggal']).cumsum()\n",
        "cov_jabar_akumulasi['akumulasi_sembuh'] = cov_jabar_tidy['sembuh'].cumsum()\n",
        "cov_jabar_akumulasi['akumulasi_meninggal'] = cov_jabar_tidy['meninggal'].cumsum()\n",
        "\n",
        "plt.clf()\n",
        "fig, ax = plt.subplots(figsize=(10,5))\n",
        "cov_jabar_akumulasi_ts = cov_jabar_akumulasi.set_index('tanggal')\n",
        "cov_jabar_akumulasi_ts.plot(kind='line', ax=ax, lw=3,\n",
        "\t\t\t\t\t\t\tcolor=['salmon', 'slategrey', 'olivedrab'])\n",
        "\n",
        "ax.set_title('Dinamika Kasus COVID-19 di Jawa Barat',\n",
        "\t\t\tfontsize=22)\n",
        "ax.set_xlabel('')\n",
        "ax.set_ylabel('Akumulasi aktif')\n",
        "ax.text(1, -0.3, 'Sumber data: covid.19.go.id', color='blue',\n",
        "\t   ha='right', transform=ax.transAxes)\n",
        "plt.grid()\n",
        "plt.tight_layout()\n",
        "plt.show()"
      ],
      "metadata": {
        "colab": {
          "base_uri": "https://localhost:8080/",
          "height": 432
        },
        "id": "DcZkjcg6SFJw",
        "outputId": "2a1c97c4-8667-4ec3-a06d-d15d427ef719"
      },
      "execution_count": 24,
      "outputs": [
        {
          "output_type": "stream",
          "name": "stderr",
          "text": [
            "/usr/local/lib/python3.8/dist-packages/urllib3/connectionpool.py:842: InsecureRequestWarning: Unverified HTTPS request is being made. Adding certificate verification is strongly advised. See: https://urllib3.readthedocs.io/en/latest/advanced-usage.html#ssl-warnings\n",
            "  warnings.warn((\n"
          ]
        },
        {
          "output_type": "display_data",
          "data": {
            "text/plain": [
              "<Figure size 432x288 with 0 Axes>"
            ]
          },
          "metadata": {}
        },
        {
          "output_type": "display_data",
          "data": {
            "text/plain": [
              "<Figure size 720x360 with 1 Axes>"
            ],
            "image/png": "[encoded data removed]"
          },
          "metadata": {
            "needs_background": "light"
          }
        }
      ]
    },
    {
      "cell_type": "markdown",
      "source": [
        "#Thanks!"
      ],
      "metadata": {
        "id": "a5-2dyPcTDD2"
      }
    }
  ]
}